{
  "nbformat": 4,
  "nbformat_minor": 0,
  "metadata": {
    "colab": {
      "provenance": [],
      "authorship_tag": "ABX9TyP0h/aj3OEDWa8nuk4VHiPS",
      "include_colab_link": true
    },
    "kernelspec": {
      "name": "python3",
      "display_name": "Python 3"
    },
    "language_info": {
      "name": "python"
    }
  },
  "cells": [
    {
      "cell_type": "markdown",
      "metadata": {
        "id": "view-in-github",
        "colab_type": "text"
      },
      "source": [
        "<a href=\"https://colab.research.google.com/github/zahra-fatima-cymk/python-s-programming/blob/main/lesson1.ipynb\" target=\"_parent\"><img src=\"https://colab.research.google.com/assets/colab-badge.svg\" alt=\"Open In Colab\"/></a>"
      ]
    },
    {
      "cell_type": "code",
      "execution_count": 1,
      "metadata": {
        "colab": {
          "base_uri": "https://localhost:8080/"
        },
        "id": "j7WgCMgYgNJ8",
        "outputId": "6a10210d-b12c-4684-d7f0-9852f97e8cf4"
      },
      "outputs": [
        {
          "output_type": "stream",
          "name": "stdout",
          "text": [
            "8\n"
          ]
        }
      ],
      "source": [
        "a=3\n",
        "b=5\n",
        "print(a+b)"
      ]
    },
    {
      "cell_type": "code",
      "source": [
        "#this is a comment\n",
        "print('hello world')"
      ],
      "metadata": {
        "colab": {
          "base_uri": "https://localhost:8080/"
        },
        "id": "CUKOkoRxlp9l",
        "outputId": "d301db05-e32b-4012-9b42-e46be7e45a42"
      },
      "execution_count": 2,
      "outputs": [
        {
          "output_type": "stream",
          "name": "stdout",
          "text": [
            "hello world\n"
          ]
        }
      ]
    },
    {
      "cell_type": "code",
      "source": [
        "x=5\n",
        "y='zara'\n",
        "z=10.22\n",
        "print(x,y,z)"
      ],
      "metadata": {
        "colab": {
          "base_uri": "https://localhost:8080/"
        },
        "id": "32xuf-k1l6Pc",
        "outputId": "fe277e02-a94a-4891-ffbc-19e4e3a35529"
      },
      "execution_count": 3,
      "outputs": [
        {
          "output_type": "stream",
          "name": "stdout",
          "text": [
            "5 zara 10.22\n"
          ]
        }
      ]
    },
    {
      "cell_type": "code",
      "source": [
        "x=5\n",
        "print(type(x))"
      ],
      "metadata": {
        "colab": {
          "base_uri": "https://localhost:8080/"
        },
        "id": "Yv1giwkImeGG",
        "outputId": "e8627c06-0837-4533-81c7-d72f652b8451"
      },
      "execution_count": 4,
      "outputs": [
        {
          "output_type": "stream",
          "name": "stdout",
          "text": [
            "<class 'int'>\n"
          ]
        }
      ]
    },
    {
      "cell_type": "code",
      "source": [
        "x=5\n",
        "x='zara'\n",
        "print(type(x))"
      ],
      "metadata": {
        "colab": {
          "base_uri": "https://localhost:8080/"
        },
        "id": "TRv5ndIDmxkr",
        "outputId": "6a800692-dd44-446e-9c06-e9aaa6c8b33b"
      },
      "execution_count": 5,
      "outputs": [
        {
          "output_type": "stream",
          "name": "stdout",
          "text": [
            "<class 'str'>\n"
          ]
        }
      ]
    },
    {
      "cell_type": "code",
      "source": [
        "x=int(3)\n",
        "y=float(4.00)\n",
        "z=str('zara')"
      ],
      "metadata": {
        "id": "D9293_Hjm-Hm"
      },
      "execution_count": 7,
      "outputs": []
    },
    {
      "cell_type": "code",
      "source": [
        "#python is case senstive\n",
        "a='zara'\n",
        "A=2\n",
        "#A will not overwrite a\n",
        "print(a)\n",
        "print(A)\n"
      ],
      "metadata": {
        "colab": {
          "base_uri": "https://localhost:8080/"
        },
        "id": "K1lAE5m-nP-0",
        "outputId": "9e63a57e-037a-4b0a-852a-2f55b264e262"
      },
      "execution_count": 9,
      "outputs": [
        {
          "output_type": "stream",
          "name": "stdout",
          "text": [
            "zara\n",
            "2\n"
          ]
        }
      ]
    },
    {
      "cell_type": "code",
      "source": [
        "#many values to multiple variable\n",
        "x,y,z='zara','zara1','zara2'\n",
        "print(x)\n",
        "print(y)\n",
        "print(z)"
      ],
      "metadata": {
        "id": "1WoqsOADntq8",
        "outputId": "db04a446-0648-49cd-f6f1-6d6aef4bb41c",
        "colab": {
          "base_uri": "https://localhost:8080/"
        }
      },
      "execution_count": 10,
      "outputs": [
        {
          "output_type": "stream",
          "name": "stdout",
          "text": [
            "zara\n",
            "zara1\n",
            "zara2\n"
          ]
        }
      ]
    },
    {
      "cell_type": "code",
      "source": [
        "#one value to multiple variables\n",
        "x=y=z='zara'\n",
        "print(x)\n",
        "print(y)\n",
        "print(z)"
      ],
      "metadata": {
        "id": "s4ZJz1ufoUwR",
        "outputId": "97e72f05-1dc7-42ac-f2e9-722be3324f05",
        "colab": {
          "base_uri": "https://localhost:8080/"
        }
      },
      "execution_count": 11,
      "outputs": [
        {
          "output_type": "stream",
          "name": "stdout",
          "text": [
            "zara\n",
            "zara\n",
            "zara\n"
          ]
        }
      ]
    },
    {
      "cell_type": "code",
      "source": [
        "#unpack a collection\n",
        "#if you have a collection of values in a list ,tuple etc.python allows you to extact the values into variables that is called unlocking\n",
        "fruits=['apple','banana','cherry']\n",
        "x,y,z=fruits\n",
        "print(x)\n",
        "print(y)\n",
        "print(z)"
      ],
      "metadata": {
        "id": "_xpm_3mvowJ7",
        "outputId": "6d60a0c9-6c4a-4958-9904-bc8312b54b72",
        "colab": {
          "base_uri": "https://localhost:8080/"
        }
      },
      "execution_count": 12,
      "outputs": [
        {
          "output_type": "stream",
          "name": "stdout",
          "text": [
            "apple\n",
            "banana\n",
            "cherry\n"
          ]
        }
      ]
    },
    {
      "cell_type": "code",
      "source": [
        "#output print function\n",
        "x='python is awesome'\n",
        "print(x)"
      ],
      "metadata": {
        "id": "zqA8SnSZpWvY",
        "outputId": "0a255ac5-00c7-4eec-a956-8c5fc423df0a",
        "colab": {
          "base_uri": "https://localhost:8080/"
        }
      },
      "execution_count": 13,
      "outputs": [
        {
          "output_type": "stream",
          "name": "stdout",
          "text": [
            "python is awesome\n"
          ]
        }
      ]
    },
    {
      "cell_type": "code",
      "source": [
        "#output seperated by comma\n",
        "x='python'\n",
        "y='is'\n",
        "z='awesome'\n",
        "print(x,y,z)"
      ],
      "metadata": {
        "id": "nPqv6AJQpbda",
        "outputId": "3a526c63-4129-48dc-8ac5-46c9be31bbcb",
        "colab": {
          "base_uri": "https://localhost:8080/"
        }
      },
      "execution_count": 14,
      "outputs": [
        {
          "output_type": "stream",
          "name": "stdout",
          "text": [
            "python is awesome\n"
          ]
        }
      ]
    },
    {
      "cell_type": "code",
      "source": [
        "#using + operator=> in string we can also use + operator to concate string but in number + operator work as mathematical operator\n",
        "x='python'\n",
        "y='is'\n",
        "z='awesome'\n",
        "print(x+y+z)\n",
        "a=1\n",
        "b=2\n",
        "print(a+b)"
      ],
      "metadata": {
        "id": "iMgGXztWpwZg",
        "outputId": "84844e66-eeb3-4ca6-8f6a-3c04edfba3d0",
        "colab": {
          "base_uri": "https://localhost:8080/"
        }
      },
      "execution_count": 15,
      "outputs": [
        {
          "output_type": "stream",
          "name": "stdout",
          "text": [
            "pythonisawesome\n",
            "3\n"
          ]
        }
      ]
    },
    {
      "cell_type": "code",
      "source": [
        "#global variable =>variable declare outside a function is a globle variable and it can be accessed anywhrer inside and outside a function\n",
        "x='awesome'\n",
        "def myname():\n",
        "  'python is  '+x\n",
        "  myname()"
      ],
      "metadata": {
        "id": "dpIoqLwNqPoS"
      },
      "execution_count": 16,
      "outputs": []
    },
    {
      "cell_type": "code",
      "source": [
        "#local variable=>variable declare inside a function is a local variable if it is the same name of global variable it remain as global\n",
        "x='awesome'\n",
        "def myname():\n",
        "  x='world'\n",
        "  print('hello '+x )\n",
        "  myname()\n",
        "  print('python is '+x)"
      ],
      "metadata": {
        "id": "S_TNTyI4rcaD"
      },
      "execution_count": 17,
      "outputs": []
    },
    {
      "cell_type": "code",
      "source": [
        "#variable with global keyworld=>if a variable declare with global keyword ,it belongs to global scope\n",
        "x='zara'\n",
        "def myfun():\n",
        "  global x\n",
        "  x='world'\n",
        "myfun()\n",
        "print('hello '+x)\n"
      ],
      "metadata": {
        "id": "wSLW3ij0svHu",
        "outputId": "cc3c2b5d-4269-4c53-8df8-a8222290fd6a",
        "colab": {
          "base_uri": "https://localhost:8080/"
        }
      },
      "execution_count": 19,
      "outputs": [
        {
          "output_type": "stream",
          "name": "stdout",
          "text": [
            "hello world\n"
          ]
        }
      ]
    }
  ]
}